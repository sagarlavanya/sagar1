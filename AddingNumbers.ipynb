{
  "nbformat": 4,
  "nbformat_minor": 0,
  "metadata": {
    "colab": {
      "provenance": []
    },
    "kernelspec": {
      "name": "python3",
      "display_name": "Python 3"
    },
    "language_info": {
      "name": "python"
    }
  },
  "cells": [
    {
      "cell_type": "code",
      "execution_count": 2,
      "metadata": {
        "colab": {
          "base_uri": "https://localhost:8080/"
        },
        "id": "lOCivsAaCAVg",
        "outputId": "6a305456-8fe2-47ad-9291-0e6b08b96092"
      },
      "outputs": [
        {
          "output_type": "stream",
          "name": "stdout",
          "text": [
            "Fun Adding App for toddlers\n",
            "Lets add two numbers together\n",
            "Enter the first number: 5\n",
            "Enter the second number: 25\n",
            "The sum is: 30\n"
          ]
        }
      ],
      "source": [
        "print(\"Fun Adding App for toddlers\")\n",
        "print(\"Lets add two numbers together\")\n",
        "\n",
        "# Ask for the first number\n",
        "first_number = int(input(\"Enter the first number: \"))\n",
        "\n",
        "\n",
        "# Ask for the second number\n",
        "second_number = int(input(\"Enter the second number: \"))\n",
        "\n",
        "# calculate the sum\n",
        "result = first_number + second_number\n",
        "\n",
        "#Display the result\n",
        "print(f\"The sum is: {result}\")\n"
      ]
    }
  ]
}